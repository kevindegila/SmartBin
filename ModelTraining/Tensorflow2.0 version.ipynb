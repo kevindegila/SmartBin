{
 "cells": [
  {
   "cell_type": "code",
   "execution_count": 1,
   "metadata": {},
   "outputs": [],
   "source": [
    "from tensorflow.keras.models import Sequential\n",
    "from tensorflow.keras.layers import Conv2D, MaxPooling2D, BatchNormalization, Dropout, Dense, Activation, Flatten\n",
    "from tensorflow.keras.optimizers import SGD\n",
    "from tensorflow.keras.models import save_model"
   ]
  },
  {
   "cell_type": "code",
   "execution_count": 2,
   "metadata": {},
   "outputs": [],
   "source": [
    "import os, shutil\n",
    "from PIL import Image"
   ]
  },
  {
   "cell_type": "code",
   "execution_count": 3,
   "metadata": {},
   "outputs": [],
   "source": [
    "train_dir = 'training'\n",
    "val_dir = 'validation'\n",
    "test_dir = 'testing'"
   ]
  },
  {
   "cell_type": "code",
   "execution_count": 4,
   "metadata": {},
   "outputs": [],
   "source": [
    "\n",
    "from tensorflow.keras import layers\n",
    "from tensorflow.keras import models\n",
    "\n",
    "model = models.Sequential()\n",
    "model.add(layers.Conv2D(32, (3, 3), activation='relu',\n",
    "                        input_shape=(150, 150, 3)))\n",
    "model.add(layers.MaxPooling2D((2, 2)))\n",
    "model.add(layers.Conv2D(64, (3, 3), activation='relu'))\n",
    "model.add(layers.MaxPooling2D((2, 2)))\n",
    "model.add(layers.Conv2D(128, (3, 3), activation='relu'))\n",
    "model.add(layers.MaxPooling2D((2, 2)))\n",
    "model.add(layers.Conv2D(128, (3, 3), activation='relu'))\n",
    "model.add(layers.MaxPooling2D((2, 2)))\n",
    "model.add(layers.Flatten())\n",
    "model.add(layers.Dense(512, activation='relu'))\n",
    "model.add(layers.Dense(1, activation='sigmoid'))"
   ]
  },
  {
   "cell_type": "code",
   "execution_count": 5,
   "metadata": {},
   "outputs": [],
   "source": [
    "\n",
    "from tensorflow.keras import optimizers\n",
    "\n",
    "model.compile(loss='binary_crossentropy',\n",
    "              optimizer=optimizers.RMSprop(lr=1e-4),\n",
    "              metrics=['acc'])\n"
   ]
  },
  {
   "cell_type": "code",
   "execution_count": 6,
   "metadata": {},
   "outputs": [
    {
     "name": "stdout",
     "output_type": "stream",
     "text": [
      "Found 5999 images belonging to 2 classes.\n",
      "Found 2000 images belonging to 2 classes.\n"
     ]
    }
   ],
   "source": [
    "from tensorflow.keras.preprocessing.image import ImageDataGenerator\n",
    "\n",
    "# All images will be rescaled by 1./255\n",
    "train_datagen = ImageDataGenerator(rescale=1./255)\n",
    "test_datagen = ImageDataGenerator(rescale=1./255)\n",
    "\n",
    "train_generator = train_datagen.flow_from_directory(\n",
    "        # This is the target directory\n",
    "        train_dir,\n",
    "        # All images will be resized to 150x150\n",
    "        target_size=(150, 150),\n",
    "        batch_size=20,\n",
    "        # Since we use binary_crossentropy loss, we need binary labels\n",
    "        class_mode='binary')\n",
    "\n",
    "validation_generator = test_datagen.flow_from_directory(\n",
    "        val_dir,\n",
    "        target_size=(150, 150),\n",
    "        batch_size=20,\n",
    "        class_mode='binary')"
   ]
  },
  {
   "cell_type": "code",
   "execution_count": 7,
   "metadata": {},
   "outputs": [
    {
     "name": "stdout",
     "output_type": "stream",
     "text": [
      "Epoch 1/30\n",
      "300/300 [==============================] - 178s 592ms/step - loss: 0.4963 - acc: 0.7645 - val_loss: 0.4336 - val_acc: 0.8025\n",
      "Epoch 2/30\n",
      "300/300 [==============================] - 177s 589ms/step - loss: 0.4413 - acc: 0.8010 - val_loss: 0.4123 - val_acc: 0.8100\n",
      "Epoch 3/30\n",
      "300/300 [==============================] - 177s 588ms/step - loss: 0.4188 - acc: 0.8150 - val_loss: 0.3900 - val_acc: 0.8390\n",
      "Epoch 4/30\n",
      "300/300 [==============================] - 176s 588ms/step - loss: 0.3985 - acc: 0.8266 - val_loss: 0.3834 - val_acc: 0.8350\n",
      "Epoch 5/30\n",
      "300/300 [==============================] - 177s 589ms/step - loss: 0.3834 - acc: 0.8346 - val_loss: 0.3642 - val_acc: 0.8405\n",
      "Epoch 6/30\n",
      "300/300 [==============================] - 178s 593ms/step - loss: 0.3725 - acc: 0.8378 - val_loss: 0.3567 - val_acc: 0.8530\n",
      "Epoch 7/30\n",
      "300/300 [==============================] - 177s 589ms/step - loss: 0.3502 - acc: 0.8495 - val_loss: 0.3395 - val_acc: 0.8590\n",
      "Epoch 8/30\n",
      "300/300 [==============================] - 177s 590ms/step - loss: 0.3383 - acc: 0.8565 - val_loss: 0.3624 - val_acc: 0.8485\n",
      "Epoch 9/30\n",
      "300/300 [==============================] - 177s 591ms/step - loss: 0.3233 - acc: 0.8645 - val_loss: 0.3410 - val_acc: 0.8465\n",
      "Epoch 10/30\n",
      "300/300 [==============================] - 177s 589ms/step - loss: 0.3091 - acc: 0.8766 - val_loss: 0.4200 - val_acc: 0.8020\n",
      "Epoch 11/30\n",
      "300/300 [==============================] - 177s 592ms/step - loss: 0.2927 - acc: 0.8793 - val_loss: 0.3649 - val_acc: 0.8420\n",
      "Epoch 12/30\n",
      "300/300 [==============================] - 177s 589ms/step - loss: 0.2784 - acc: 0.8873 - val_loss: 0.3348 - val_acc: 0.8755\n",
      "Epoch 13/30\n",
      "300/300 [==============================] - 177s 590ms/step - loss: 0.2579 - acc: 0.8938 - val_loss: 0.3413 - val_acc: 0.8590\n",
      "Epoch 14/30\n",
      "300/300 [==============================] - 177s 589ms/step - loss: 0.2472 - acc: 0.9003 - val_loss: 0.3261 - val_acc: 0.8655\n",
      "Epoch 15/30\n",
      "300/300 [==============================] - 177s 589ms/step - loss: 0.2278 - acc: 0.9113 - val_loss: 0.3862 - val_acc: 0.8665\n",
      "Epoch 16/30\n",
      "300/300 [==============================] - 176s 588ms/step - loss: 0.2113 - acc: 0.9168 - val_loss: 0.3850 - val_acc: 0.8560\n",
      "Epoch 17/30\n",
      "300/300 [==============================] - 176s 588ms/step - loss: 0.1899 - acc: 0.9258 - val_loss: 0.3630 - val_acc: 0.8700\n",
      "Epoch 18/30\n",
      "300/300 [==============================] - 179s 598ms/step - loss: 0.1759 - acc: 0.9340 - val_loss: 0.3629 - val_acc: 0.8615\n",
      "Epoch 19/30\n",
      "300/300 [==============================] - 177s 591ms/step - loss: 0.1562 - acc: 0.9423 - val_loss: 0.5030 - val_acc: 0.8415\n",
      "Epoch 20/30\n",
      "300/300 [==============================] - 177s 588ms/step - loss: 0.1434 - acc: 0.9470 - val_loss: 0.4003 - val_acc: 0.8675\n",
      "Epoch 21/30\n",
      "300/300 [==============================] - 178s 593ms/step - loss: 0.1274 - acc: 0.9540 - val_loss: 0.6091 - val_acc: 0.8230\n",
      "Epoch 22/30\n",
      "300/300 [==============================] - 177s 591ms/step - loss: 0.1106 - acc: 0.9587 - val_loss: 0.4257 - val_acc: 0.8650\n",
      "Epoch 23/30\n",
      "300/300 [==============================] - 183s 609ms/step - loss: 0.0989 - acc: 0.9637 - val_loss: 0.7067 - val_acc: 0.8010\n",
      "Epoch 24/30\n",
      "300/300 [==============================] - 179s 596ms/step - loss: 0.0885 - acc: 0.9697 - val_loss: 0.6559 - val_acc: 0.8140\n",
      "Epoch 25/30\n",
      "300/300 [==============================] - 176s 588ms/step - loss: 0.0771 - acc: 0.9753 - val_loss: 0.4892 - val_acc: 0.8675\n",
      "Epoch 26/30\n",
      "300/300 [==============================] - 177s 590ms/step - loss: 0.0654 - acc: 0.9775 - val_loss: 0.5571 - val_acc: 0.8560\n",
      "Epoch 27/30\n",
      "300/300 [==============================] - 180s 600ms/step - loss: 0.0598 - acc: 0.9812 - val_loss: 0.6210 - val_acc: 0.8455\n",
      "Epoch 28/30\n",
      "300/300 [==============================] - 181s 603ms/step - loss: 0.0505 - acc: 0.9833 - val_loss: 0.8184 - val_acc: 0.8285\n",
      "Epoch 29/30\n",
      "300/300 [==============================] - 185s 618ms/step - loss: 0.0526 - acc: 0.9850 - val_loss: 0.5527 - val_acc: 0.8670\n",
      "Epoch 30/30\n",
      "300/300 [==============================] - 179s 597ms/step - loss: 0.0401 - acc: 0.9873 - val_loss: 0.6641 - val_acc: 0.8235\n"
     ]
    }
   ],
   "source": [
    "history = model.fit_generator(\n",
    "      train_generator,\n",
    "      steps_per_epoch=300,\n",
    "      epochs=30,\n",
    "      validation_data=validation_generator,\n",
    "      validation_steps=100)"
   ]
  },
  {
   "cell_type": "code",
   "execution_count": 8,
   "metadata": {},
   "outputs": [],
   "source": [
    "model.save('tf2.h5')"
   ]
  },
  {
   "cell_type": "code",
   "execution_count": null,
   "metadata": {},
   "outputs": [],
   "source": []
  },
  {
   "cell_type": "code",
   "execution_count": null,
   "metadata": {},
   "outputs": [],
   "source": []
  },
  {
   "cell_type": "code",
   "execution_count": 1,
   "metadata": {},
   "outputs": [],
   "source": [
    "from tensorflow.keras.models import load_model"
   ]
  },
  {
   "cell_type": "code",
   "execution_count": null,
   "metadata": {},
   "outputs": [],
   "source": []
  }
 ],
 "metadata": {
  "kernelspec": {
   "display_name": "Python 3",
   "language": "python",
   "name": "python3"
  },
  "language_info": {
   "codemirror_mode": {
    "name": "ipython",
    "version": 3
   },
   "file_extension": ".py",
   "mimetype": "text/x-python",
   "name": "python",
   "nbconvert_exporter": "python",
   "pygments_lexer": "ipython3",
   "version": "3.6.9"
  }
 },
 "nbformat": 4,
 "nbformat_minor": 2
}
